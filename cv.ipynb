{
 "cells": [
  {
   "cell_type": "code",
   "execution_count": null,
   "metadata": {},
   "outputs": [],
   "source": [
    "import cv2\n",
    "import os\n",
    "import time\n",
    "import json\n",
    "import random\n",
    "from PIL import Image\n",
    "import numpy as np\n",
    "from mss import mss\n",
    "import serial, time\n",
    "import binascii\n",
    "import imageio\n",
    "import urllib\n",
    "import requests"
   ]
  },
  {
   "cell_type": "code",
   "execution_count": null,
   "metadata": {},
   "outputs": [],
   "source": [
    "cap = cv2.VideoCapture(0)\n",
    "sct = mss()"
   ]
  },
  {
   "cell_type": "code",
   "execution_count": 57,
   "metadata": {},
   "outputs": [],
   "source": [
    "arduino = serial.Serial('/dev/cu.SLAB_USBtoUART', 115200, timeout=.1)\n",
    "src_dev = 0\n",
    "w, h = 64, 64\n",
    "monitor = {'top': 0, 'left': 0, 'width': w, 'height': h}"
   ]
  },
  {
   "cell_type": "code",
   "execution_count": 55,
   "metadata": {},
   "outputs": [
    {
     "name": "stdout",
     "output_type": "stream",
     "text": [
      "Total 108 frames in the gif!\n"
     ]
    }
   ],
   "source": [
    "gifurl = 'https://gifs.iloopit.net/resources/1ead57a3-48e4-4fb1-86ea-07527a7c079a/converted.gif'\n",
    "fname = 'tmp.gif'\n",
    "\n",
    "## Read the gif from the web, save to the disk\n",
    "if not os.path.exists(fname):\n",
    "    imdata = urllib.request.urlopen(gifurl).read()\n",
    "    imbytes = bytearray(imdata)\n",
    "    open(fname,\"wb+\").write(imdata)\n",
    "\n",
    "#gif = imageio.mimread('/Users/dusanklinec/Downloads/511e39e7152f0.gif') #fname\n",
    "gif = imageio.mimread(fname) #\n",
    "num_frames = len(gif)\n",
    "print(\"Total {} frames in the gif!\".format(num_frames))\n",
    "\n",
    "imgs = [cv2.cvtColor(img, cv2.COLOR_BGR2GRAY) for img in gif]\n",
    "imgs = [cv2.resize(rgb, (64, 64)) for rgb in imgs]\n",
    "imgs = [cv2.threshold(img, 128, 255, cv2.THRESH_BINARY)[1] for img in imgs]"
   ]
  },
  {
   "cell_type": "code",
   "execution_count": 23,
   "metadata": {},
   "outputs": [
    {
     "ename": "IndexError",
     "evalue": "list index out of range",
     "output_type": "error",
     "traceback": [
      "\u001b[0;31m---------------------------------------------------------------------------\u001b[0m",
      "\u001b[0;31mIndexError\u001b[0m                                Traceback (most recent call last)",
      "\u001b[0;32m<ipython-input-23-79f35f1fdd87>\u001b[0m in \u001b[0;36m<module>\u001b[0;34m()\u001b[0m\n\u001b[1;32m      7\u001b[0m \u001b[0;34m\u001b[0m\u001b[0m\n\u001b[1;32m      8\u001b[0m \u001b[0;32mwhile\u001b[0m \u001b[0;32mTrue\u001b[0m\u001b[0;34m:\u001b[0m\u001b[0;34m\u001b[0m\u001b[0m\n\u001b[0;32m----> 9\u001b[0;31m     \u001b[0mcv2\u001b[0m\u001b[0;34m.\u001b[0m\u001b[0mimshow\u001b[0m\u001b[0;34m(\u001b[0m\u001b[0;34m\"gif\"\u001b[0m\u001b[0;34m,\u001b[0m \u001b[0mimgs\u001b[0m\u001b[0;34m[\u001b[0m\u001b[0mi\u001b[0m\u001b[0;34m]\u001b[0m\u001b[0;34m)\u001b[0m\u001b[0;34m\u001b[0m\u001b[0m\n\u001b[0m\u001b[1;32m     10\u001b[0m     \u001b[0;32mif\u001b[0m \u001b[0mcv2\u001b[0m\u001b[0;34m.\u001b[0m\u001b[0mwaitKey\u001b[0m\u001b[0;34m(\u001b[0m\u001b[0;36m100\u001b[0m\u001b[0;34m)\u001b[0m\u001b[0;34m&\u001b[0m\u001b[0;36m0xFF\u001b[0m \u001b[0;34m==\u001b[0m \u001b[0;36m27\u001b[0m\u001b[0;34m:\u001b[0m\u001b[0;34m\u001b[0m\u001b[0m\n\u001b[1;32m     11\u001b[0m         \u001b[0;32mbreak\u001b[0m\u001b[0;34m\u001b[0m\u001b[0m\n",
      "\u001b[0;31mIndexError\u001b[0m: list index out of range"
     ]
    }
   ],
   "source": [
    "# imgs = [cv2.cvtColor(img, cv2.COLOR_BGR2GRAY) for img in gif]\n",
    "# imgs = [cv2.resize(rgb, (64, 64)) for rgb in imgs]\n",
    "# imgs = [cv2.threshold(img, 128, 255, cv2.THRESH_BINARY)[1] for img in imgs]\n",
    "## Display the gif\n",
    "i = 0\n",
    "\n",
    "while True:\n",
    "    cv2.imshow(\"gif\", imgs[i])\n",
    "    if cv2.waitKey(100)&0xFF == 27:\n",
    "        break\n",
    "    i = (i+1)%nums\n",
    "cv2.destroyAllWindows()"
   ]
  },
  {
   "cell_type": "code",
   "execution_count": 67,
   "metadata": {},
   "outputs": [
    {
     "ename": "KeyboardInterrupt",
     "evalue": "",
     "output_type": "error",
     "traceback": [
      "\u001b[0;31m---------------------------------------------------------------------------\u001b[0m",
      "\u001b[0;31mKeyboardInterrupt\u001b[0m                         Traceback (most recent call last)",
      "\u001b[0;32m<ipython-input-67-16d79041dd4a>\u001b[0m in \u001b[0;36m<module>\u001b[0;34m()\u001b[0m\n\u001b[1;32m     46\u001b[0m         \u001b[0marduino\u001b[0m\u001b[0;34m.\u001b[0m\u001b[0mflush\u001b[0m\u001b[0;34m(\u001b[0m\u001b[0;34m)\u001b[0m\u001b[0;34m\u001b[0m\u001b[0m\n\u001b[1;32m     47\u001b[0m         \u001b[0;31m#print('%s, %s' % (ln, binascii.hexlify(sbuff)))\u001b[0m\u001b[0;34m\u001b[0m\u001b[0;34m\u001b[0m\u001b[0m\n\u001b[0;32m---> 48\u001b[0;31m         \u001b[0mtime\u001b[0m\u001b[0;34m.\u001b[0m\u001b[0msleep\u001b[0m\u001b[0;34m(\u001b[0m\u001b[0;36m0.15\u001b[0m\u001b[0;34m)\u001b[0m\u001b[0;34m\u001b[0m\u001b[0m\n\u001b[0m\u001b[1;32m     49\u001b[0m \u001b[0;34m\u001b[0m\u001b[0m\n\u001b[1;32m     50\u001b[0m     \u001b[0mcv2\u001b[0m\u001b[0;34m.\u001b[0m\u001b[0mimshow\u001b[0m\u001b[0;34m(\u001b[0m\u001b[0;34m'frame'\u001b[0m\u001b[0;34m,\u001b[0m \u001b[0mobuff\u001b[0m\u001b[0;34m)\u001b[0m\u001b[0;34m\u001b[0m\u001b[0m\n",
      "\u001b[0;31mKeyboardInterrupt\u001b[0m: "
     ]
    }
   ],
   "source": [
    "cframe = 0\n",
    "while True:\n",
    "    while True:\n",
    "        rline = arduino.readline().strip()\n",
    "        if len(rline) > 0:\n",
    "            print(rline)\n",
    "        else:\n",
    "            break\n",
    "        \n",
    "    if src_dev == 0:\n",
    "        ret, frame = cap.read()\n",
    "        rgb = cv2.cvtColor(frame, cv2.COLOR_BGR2GRAY)\n",
    "    elif src_dev == 1:\n",
    "        rgb = np.array(sct.grab(monitor))\n",
    "        rgb = cv2.cvtColor(rgb, cv2.COLOR_BGR2GRAY)\n",
    "    elif src_dev == 2:\n",
    "        rgb = imgs[cframe]\n",
    "        cframe = (cframe + 15) % num_frames\n",
    "    else:\n",
    "        raise ValueError('wtf')\n",
    "    obuff = rgb\n",
    "    \n",
    "    #obuff = cv2.adaptiveThreshold(obuff, 255, cv2.ADAPTIVE_THRESH_GAUSSIAN_C, cv2.THRESH_BINARY, 15, 1)\n",
    "    obuff = cv2.resize(obuff, (64, 64))#, interpolation = cv2.INTER_NEAREST)\n",
    "    #ret, obuff = cv2.threshold(obuff, 128, 255, cv2.THRESH_BINARY)\n",
    "    obuff = cv2.adaptiveThreshold(obuff, 255, cv2.ADAPTIVE_THRESH_GAUSSIAN_C, cv2.THRESH_BINARY, 5, 1)\n",
    "    \n",
    "    nobuff = bytearray(int(64*64/8))  # bitmap picture, 1 Byte = 8 pixels\n",
    "    cbit = 0\n",
    "    for i in range(64*64):\n",
    "        bout = obuff[i//64][i%64] > 0\n",
    "        if bout:\n",
    "            nobuff[i//8] |= 1 << (i%8)\n",
    "            \n",
    "    #print(binascii.hexlify(nobuff))\n",
    "\n",
    "    sbuff = bytearray(65)\n",
    "    off = 0\n",
    "    for r in range(8):\n",
    "        sbuff[0] = r\n",
    "        for i in range(64):\n",
    "            sbuff[1+i] = nobuff[off+i]\n",
    "        off += 64\n",
    "\n",
    "        ln = arduino.write(sbuff)\n",
    "        arduino.flush()\n",
    "        #print('%s, %s' % (ln, binascii.hexlify(sbuff)))\n",
    "        time.sleep(0.15)\n",
    "   \n",
    "    cv2.imshow('frame', obuff)\n",
    "    cv2.waitKey(1)\n",
    "    #time.sleep(2)\n",
    "    #break\n"
   ]
  },
  {
   "cell_type": "code",
   "execution_count": null,
   "metadata": {},
   "outputs": [],
   "source": [
    "cv2.destroyAllWindows()"
   ]
  },
  {
   "cell_type": "code",
   "execution_count": null,
   "metadata": {},
   "outputs": [],
   "source": [
    "#w, h = 200, 200\n",
    "#monitor = {'top': 0, 'left': 0, 'width': w, 'height': h}\n",
    "#img = Image.frombytes('RGB', (w,h), sct.grab(monitor).rgb)\n",
    "#cv2.imshow('frame', np.array(img))\n",
    "cv2.imshow('frame', np.array(sct.grab(monitor)))\n",
    "if cv2.waitKey(0) & 0xFF == ord('q'):\n",
    "    cv2.destroyAllWindows()\n",
    "    "
   ]
  },
  {
   "cell_type": "code",
   "execution_count": null,
   "metadata": {},
   "outputs": [],
   "source": [
    "ret, frame = cap.read()\n",
    "rgb = cv2.cvtColor(frame, cv2.COLOR_BGR2BGRA)\n",
    "print(rgb[0][0])"
   ]
  },
  {
   "cell_type": "code",
   "execution_count": null,
   "metadata": {},
   "outputs": [],
   "source": [
    "cap.release()"
   ]
  },
  {
   "cell_type": "code",
   "execution_count": null,
   "metadata": {},
   "outputs": [],
   "source": [
    "while(True):\n",
    "#for i in range(2):\n",
    "    ret, frame = cap.read()\n",
    "    rgb = cv2.cvtColor(frame, cv2.COLOR_BGR2BGRA)\n",
    "    W = 200\n",
    "    roff = random.randrange((720-W)*(720-W))\n",
    "    for r in range(W):\n",
    "        for q in range(W):\n",
    "            rgb[(roff//720)+r][(roff%720)+q] = [0x0, 0xff, 0x00, 0xff]\n",
    "    \n",
    "    ob = cv2.resize(rgb, (64,64))\n",
    "    cv2.imshow('image', random.randrange(3,10)*rgb)\n",
    "    if cv2.waitKey(1) & 0xFF == ord('q'):\n",
    "        out = cv2.imwrite('capture.jpg', frame)\n",
    "        break\n",
    "\n",
    "cap.release()\n",
    "cv2.destroyAllWindows()\n",
    "   \n"
   ]
  },
  {
   "cell_type": "code",
   "execution_count": null,
   "metadata": {},
   "outputs": [],
   "source": [
    "import serial, time\n",
    "arduino = serial.Serial('/dev/cu.SLAB_USBtoUART', 115200, timeout=.1)"
   ]
  },
  {
   "cell_type": "code",
   "execution_count": null,
   "metadata": {},
   "outputs": [],
   "source": [
    "while True:\n",
    "    print(arduino.readline())"
   ]
  },
  {
   "cell_type": "code",
   "execution_count": null,
   "metadata": {},
   "outputs": [],
   "source": []
  }
 ],
 "metadata": {
  "kernelspec": {
   "display_name": "Python 3",
   "language": "python",
   "name": "python3"
  },
  "language_info": {
   "codemirror_mode": {
    "name": "ipython",
    "version": 3
   },
   "file_extension": ".py",
   "mimetype": "text/x-python",
   "name": "python",
   "nbconvert_exporter": "python",
   "pygments_lexer": "ipython3",
   "version": "3.6.5"
  }
 },
 "nbformat": 4,
 "nbformat_minor": 2
}
