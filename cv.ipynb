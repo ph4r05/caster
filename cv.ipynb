{
 "cells": [
  {
   "cell_type": "code",
   "execution_count": 27,
   "metadata": {},
   "outputs": [],
   "source": [
    "import cv2\n",
    "import time\n",
    "import json\n",
    "import random\n",
    "from PIL import Image\n",
    "import numpy as np\n",
    "from mss import mss\n",
    "import serial, time\n",
    "import binascii"
   ]
  },
  {
   "cell_type": "code",
   "execution_count": 48,
   "metadata": {},
   "outputs": [],
   "source": [
    "cap = cv2.VideoCapture(0)\n",
    "sct = mss()"
   ]
  },
  {
   "cell_type": "code",
   "execution_count": 49,
   "metadata": {},
   "outputs": [],
   "source": [
    "arduino = serial.Serial('/dev/cu.SLAB_USBtoUART', 115200, timeout=.1)\n",
    "src_dev = 0\n",
    "w, h = 64, 64\n",
    "monitor = {'top': 0, 'left': 0, 'width': w, 'height': h}"
   ]
  },
  {
   "cell_type": "code",
   "execution_count": 51,
   "metadata": {},
   "outputs": [
    {
     "name": "stdout",
     "output_type": "stream",
     "text": [
      "65, b'00fff7fffffff3fffffffffffffff3fffffcf7ffffffd3fffffcffffffffd3fffff0ffffffffd3ffffe0ffffffff03ffffc0ffffffff81ffff80ffffffff00ffff'\n",
      "65, b'0180fcffffff00feff00f7ffff7f00feff00efffff3f00fcff00ffffff3f1cfeff00ffffff3f1cfeff00feffff0ffcffff00feffff0ff8ffff00fcffff0ff0ffff'\n",
      "65, b'0200f8ffff03e0ffff00e0ffff01f0ffff0080ffff00e0ffff0000fe7f00c0ffff0000fe3f00c0ffff0000eebf0080ffff0000fc7f0780ffff0000f8ff0380ffff'\n",
      "65, b'030080ff7f0000ffff00f8ff1600c0ffff0018e01300c0ffff000000080080ffff0000c01f0000feff0000807f0000fcff0000e0110000f8ff000040110000e0ff'\n",
      "65, b'040000c0110000c0ff0000b0190000c0ff0000b0000000c0ff000020000080c0ff0000e4000000e0ff000000000000f1ff000000000000f1ff000000000000f1ff'\n",
      "65, b'05000020000000fbff0000a8000000f9ff00005e000000f1ff00001c00000083ff00000600000082ff00001c00000080ff00003e00000080ff00001f00000080ff'\n",
      "65, b'0600003c000000c0ff00001f000000c0df00000a000000e0ff00400f000000e0ff00001e000000e0ff00c01f0000f0e07f00c03d0000e0e3ff00800f0000e0ffff'\n",
      "65, b'0700800f0000ccffdf00c0170000f8ff7e00e0070000f0ff1900c0020000e0ff530080000000c0df000080080000c04f0080c0080000000f0000e0000000801d00'\n",
      "65, b'00fff7fffffff7fffffffffffffff3fffffcf7ffffffd3fffff8ffffffffd3fffff0ffffffffd1fffff0ffffffff81ffffe0ffffffff00ffffc0ffffffff00ffff'\n",
      "65, b'0180fcffff7f00feff00f7ffff7f00feff00efffff3f08feff00ffffff3f1cfeff00ffffff1ffcffff00feffff1ffcffff00feffff0ff8ffff00fcffff07f0ffff'\n",
      "65, b'0200f8ffff03f0ffff00c0ffff01f0ffff0080ff7f00e0ffff0000fe7f00c0ffff0000fe3f00c0ffff0000fc7f00c0ffff0000f47f0180ffff0000fcff0780ffff'\n",
      "65, b'030080ff7f00e0ffff00f8ff0e00c0ffff0038400d00c0ffff0000c01d0000ffff0000000d0000feff0000803f0000fcff000080130000f0ff0000e0110000e0ff'\n",
      "65, b'040000c0110000c0ff000060110000c0ff000004110080d0ff0000c0000080e0ff000030000000f0ff000000000000f1ff000000000000f1ff000000000000fdff'\n",
      "65, b'05000070000080ffff000078000000f9ff000020000000f1ff00001c00000082ff00002800000080ff00001e00000080ff00002e00000080ff00003e000000c0ff'\n",
      "65, b'0600001f000000c0ff00001e000000c0ff00000f000000e0ff00801f000000e0ff00000f000000e0ff0080170000f0e07f00800f0000e0ebff00e00f0000e0ffff'\n",
      "65, b'0700c01f0000ccffdf00c0170000f8ff7700c0070000f0ff19008003000060ff71008009000080df000080080000c00f008040000000000d000080000000001d00'\n",
      "65, b'00fff7fffffff3fffffefffffffff3fffffcf7ffffffd3fffffcfffffffff3fffff0ffffffff91fffff0ffffffff81ffffe0ffffffff00ffffc0ffffffff00ffff'\n",
      "65, b'0180feffff7f00feff00f7ffff7f00feff00efffff3f08feff00ffffff3f1cfeff00ffffff1ffeffff00feffff1ffcffff00feffff0ff8ffff00fcffff07f0ffff'\n",
      "65, b'0200f8ffff03f0ffff00c0ffff01e0ffff0080ffff00e0ffff0000fe7f00c0ffff0000fe1f00e0ffff0000f83f00c0ffff0000f8ff0080ffff0000f8ff0780ffff'\n",
      "65, b'030080ffff00e0ffff00f8ff0600e0ffff0038001b00c0ffff0000c0170000ffff0000801e0000feff0000003f0000fcff0000c0110000f0ff0000c0110000e0ff'\n",
      "65, b'04000080110000c0ff000040110000c0ff0000b0010080d0ff0000c0000080e0ff000020000080f0ff000008000080f0ff000000000080f9ff000000000080fbff'\n",
      "65, b'05000020000080fdff000078000080f9ff000068000000e1ff00003600000082ff00001e00000080ff00001e00000080ff00003c00000080ff00003e000000c0ff'\n",
      "65, b'0600001e000000d0ff00003f000000c0df00801f000000e0ff00001f000000e0ff00800f000000f07f00800f0000f0f07f00c01f0000e0fbff00c00f0000e0ffff'\n",
      "65, b'0700801f0000c0ffdf00c0170000f8ff7f00c0070000f0ff1900c003000060fff3002009000080df0000c0080000c00f0080c00000000007000000000000000500'\n",
      "65, b'00fff7fffffff7fffffefffffffff7fffffeffffffffd3fffff8fffffffff3fffff8ffffffff81fffff0ffffffff83ffffe0ffffffff00ffff80ffffffff00ffff'\n",
      "65, b'0100feffff7f00feff00f7ffff7f00feff00efffff3f08feff00ffffff3f1cfeff00ffffff1ffeffff00feffff1ffcffff00feffff0ff8ffff00fcffff07f0ffff'\n",
      "65, b'0200f8ffff03f0ffff00c0ffff03f0ffff0080ffff00e0ffff0000ffff00c0ffff0000fe3f00c0ffff0000fc1f00c0ffff0000f87f0080ffff0000fcff0780ffff'\n",
      "65, b'030080ffff00e0ffff00f8ff0b00e0ffff0038001200c0ffff0000801e0000ffff000080770000feff0000803f0000fcff000080090000f0ff000080110000e0ff'\n",
      "65, b'040000a0110000e0ff0000e0110000c0ff0000e0110080d0ff000080000080e0ff000040000080f0ff000000000080f0ff000040000080f9ff000000000080ffff'\n",
      "65, b'05000048000080fdff000062000080f9ff00006c000000e1ff00002a00000082ff00001c00000080ff00001e00000080ff00006e000000c0ff00003e000000c0ff'\n",
      "65, b'0600001f000000d0ff00000f000000e0df00001f000000e0bf00c00f000000e0ff00000f000000f0ff00800f0000f0f07f00c01f0000f0fbff00c00f0000e0ffff'\n",
      "65, b'0700c0170000f0ffdf0080070000dcff7f00e0030000f0ff1900a00b0000e0ff7100a0090000a0df000000000000c0ce0080c0000000c00f000080000000000400'\n",
      "65, b'00fff7fffffffbfffffcfffffffff3fffffeffffffffd3fffff8f7fffffff3fffff0ffffffffc1fffff0ffffffffc1ffffc0ffffffff00ffffc0ffffffff00ffff'\n",
      "65, b'0180feffff3f00feff00f7ffff3f00feff00efffff3f0cfeff00ffffff1f9cffff00ffffff1ffeffff00feffff1ffcffff00feffff0ff8ffff00fcffff07f8ffff'\n",
      "65, b'0200f8ffff03f0ffff0080ffff01f0ffff0080ffff00e0ffff0000feff00c0ffff0000fe7f00c0ffff0000fc3f00c0ffff0000fc7f00c0ffff0000fcff03e0ffff'\n",
      "65, b'030080ffff00e0ffff00f8ff0100e0ffff0038800300c0ffff0000001f0000ffff0000c01f0000feff0000c03d0000fcff000080150000f0ff000080110000e0ff'\n",
      "65, b'040000a0110000e0ff000000110080c0ff0000d0000080f0ff0000c0000080f0ff000020000080f0ff000000000080f1ff000000000080f9ff000000000080ffff'\n",
      "65, b'05000060000080fdff000068000080f9ff00006c000000f1ff00007c00000082ff00001e00000080ff00001c00000080ff00005e000000c0ff00001f000000c0ff'\n",
      "65, b'0600003c000000d0ff00000f000000e0ff00001f000000e0ff00000f000000f0ff00800f000040f0ff0080070000f0f17f00c00f0000e0fbff0000170000e0ffff'\n",
      "65, b'0700e0170000c0ffdf00c0070000d8ffff0080030000f0ff1900800b000020fff300c001000000df0000e0000000c08f008080000000000f0080a0000000000500'\n",
      "65, b'00fef7fffffff3fffffdfffffffffbfffffefffffffff3fffffcfffffffff3ffffe8ffffffff83fffff0ffffffff81ffff80ffffff7f00ffffc0ffffff3f00ffff'\n",
      "65, b'0100feffff3f00feff00f7ffff1f00feff00efffff1f0effff00ffffff1f8effff00ffffff0ffeffff00feffff0ffcffff00feffff07fcffff00fcffff07f8ffff'\n",
      "65, b'0200f8ffff03f8ffff00c0ffff01f8ffff00d0feff01f0ffff0080feff00f0ffff0000f83f00e0ffff0000fe1f00e0ffff0000fc7f00e0ffff0000fcff07f0ffff'\n",
      "65, b'030080ffff00f0ffff00f8ff0900f0ffff0018a00f00e0ffff0000201f0080ffff0000601d0000ffff000080730000feff0000805b0000f8ff000080100000f0ff'\n",
      "65, b'04000000110000f8ff000090310040fcff000090010040f8ff0000a0010040f8ff0000c0000040f8ff0000800000c0fcff0000d00000c0ffff0000040000c0ffff'\n",
      "65, b'050000680000c0feff0000100000c0fcff000074000080fdff00006e000000e1ff008032000000e0ff0000dc000000e3ff000018000000e0ff008013000000e0ff'\n",
      "65, b'0600003f000000f0ff00801f000000f0ff00000e000000f4ff00800b000000f8ff008007000000f8ff00601b000078fc7f0040070000f8fdff00a0070000f0ffff'\n",
      "65, b'0700e00f0000f0ffff0080030000eeff7f00c0030000feff1d0040010000f8fff30020040000b0cf6100c0000000a0cf2180c4000000c00f300010000000800f00'\n",
      "65, b'0000e0ffff20c0ffff0040ff3f00c0ffff0000fb3f00c0ffff0000f40f00c0ffff0000f00900c0ffff0000f00100c0ffff0000c00000c0ffff0000000000e0ffff'\n",
      "65, b'010000000000e0ffff0000000020e0ffff0008000060e0ffff0018000060e0ffff00380000f0e0ffff001c0000f0e0ffff002c0000f0e1ffff00040000f8e1ffff'\n",
      "65, b'0200000000f0e1ffff00000000f0e3ffff00000000f0e3ffff00000000e0e7ffff00000000e0e7ffff00000000e0e7ffff00000000e0e7ffff00000000f0e7ffff'\n",
      "65, b'0300000000e0e7ffff00000000e0e7ffff0000000080e7ffff0000000080efffff0000000000eeffff0000000000eeffff0000000000eeffff0000000000ecffff'\n",
      "65, b'040000000000ecffff0000000000eeffff0000000000c6ffff0000000008c6ffff0000000088c7ffff0000000018c7ffff0000000018c7ffff0000000018c7ffff'\n",
      "65, b'050000000018c6ffff0000000010c0ffff0000000010c0ffff0000000020c0ffff0000000000c1ffff0000000000c5ffff0000000000c1ffff0000000000c0ff7f'\n",
      "65, b'060000000000c0ff7f000000000080ff57000000000080ff3f000000000080ff5f000000000080ff2f000000000080ff03000000000082ff11000000000882ff01'\n",
      "65, b'07000000007882ff0000000000e8827f000000000088037f0000000000100308000000000010020000000000000002000000000000000400000000000000040000'\n",
      "65, b'0000e0ffff00c0ffff0000ff7f00c0ffff0000ff3f00c0ffff0000fe1f00c0ffff0000fc0b00c0ffff0000e00300c0ffff0000c00100c0ffff0000000000e0ffff'\n",
      "65, b'010004000000e0ffff0000000040e0ffff00080000c0e0ffff00180000e0e0ffff003c0000e0e1ffff001c0000f0e1ffff002c0000f0e1ffff00040000f0e3ffff'\n",
      "65, b'0200000000f0e3ffff00000000e0e7ffff00000000e0e7ffff00000000c0e7ffff00000000c0e7ffff00000000e0e7ffff00000000e0e7ffff00000000e0e7ffff'\n",
      "65, b'0300000000c0e7ffff00000000c0e7ffff0000000080c7ffff0000000000eeffff0000000000ecffff0000000000ecffff0000000000ecffff0000000000e8ffff'\n"
     ]
    },
    {
     "name": "stdout",
     "output_type": "stream",
     "text": [
      "65, b'040000000000ecffff0000000000ecffff0000000000eeffff0000000010cfffff0000000010ceffff0000000030cfffff0000000030cfffff0000000030cfffff'\n",
      "65, b'050000000010ccffff0000000020c8ffff0000000020c8ffff0000000000c8ffff0000000000c0ffff0000000000c0ffff0000000000c1ffff0000000000c2ff7f'\n",
      "65, b'060000000000c0ff7f000000000080ff57000000000080ff3f000000000080ff5f000000000080ff3f000000000080ff07000000000080ff11000000003080ff01'\n",
      "65, b'0700000000e082ff000000000090077f000000000010077e0000000000200648000000000020040000000000000004000000000000000000000000000000000000'\n",
      "65, b'0000e0ffff0fc0ffff0000ffff01c0ffff0000fdff00c0ffff0000fc5f00c0ffff0000d40f00c0ffff0000e00f00c0ffff0000c00700c0ffff0000000700c0ffff'\n",
      "65, b'010004000000e0ffff0000000000e1ffff0008000080e1ffff001c000080e3ffff003c0000c0e3ffff00180000c0e7ffff002c0000c0e7ffff00040000c0efffff'\n",
      "65, b'0200000000c0ffffff00000000c0ffffff0000000080ffffff0000000080ffffff0000000080ffffff0000000080ffffff0000000080ffffff0000000080ffffff'\n",
      "65, b'030000000080ffffff0000000000ffffff0000000000feffff0000000000fcffff0000000000f8ffff0000000000f0ffff0000000000f0ffff0000000000f4ffff'\n",
      "65, b'040000000000f0ffff0000000000f8ffff0000000000fcffff0000000040fcffff0000000040f8ffff00000000c0fcffff00000000c0dcffff0000000040dcffff'\n",
      "65, b'050000000040dcffff00000000c0c0ffff0000000080c0ffff0000000000c0ffff0000000000c0ffff0000000000c0ffff0000000000d0ffff0000000000c0ff7f'\n",
      "65, b'060000000000c0ff7f000000000080ff57000000000080ff3f000000000080ff5f000000000088ff3f000000002088ff0700000000c088ff1900000000808bff01'\n",
      "65, b'0700000000408eff0000000000408c7f000000000080087e0000000000800848000000000000100000000000000000000000000000000000000000000000000000'\n",
      "65, b'00fff7fffffffffffffffffffffffffffff8ffffffffdffffff8ffffffffd3fffff0fffffffffbfffff0ffffffffe3ffffe0ffffffffc1ffffe0ffffff7f80ffff'\n",
      "65, b'0180feffff7f00ffff00fbffff3f80ffff00efffff1f08ffff00ffffff1f8effff00ffffff1fffffff00feffff0fffffff00feffff0ffeffff00fcffff0ffeffff'\n",
      "65, b'0200f8ffff07fcffff00e0ffff03fcffff00a0ffff02f8ffff00c0ff7f00f0ffff0000ff7f00f0ffff0000fc7f00f0ffff0000feff00f0ffff0000feff07f8ffff'\n",
      "65, b'030080ffff00f0ffff00f8ff4700f0ffff0038e45f00e0ffff0000d03f00c0ffff000074770000ffff0000fcbf0000ffff0000d06f0000f8ff0000f4510000f8ff'\n",
      "65, b'040000f85b0040f8ff0000f8350040fcff0000583b0040f8ff0000fc0100c0f8ff00007a0000c0f8ff00006c0000c0fcff0000280100c0ffff0000780000c0ffff'\n",
      "65, b'050000ec0000c0feff00007e000080ffff0000fa000000fdff00007f000000e8ff00007e000000e1ff0000fe010000e3ff00009f000000e0ff00803f000000e0ff'\n",
      "65, b'0600803f000000fcff00401f000000f4ff00803f000000f4ff00e01f000020fcff00500f000078fcff00b01f0000f8fdff00e01f0000f0ffff00801f0000f0ffff'\n",
      "65, b'0700c0070000f4ffff00c0070000fcffff00c0030000fcff9f00c00b0000f0fff300c0010000e0cf7100f0010000e0ff6180ec000000c01f2000f0040000401f00'\n",
      "65, b'00fff7fffffffffffffefffffffff7fffffeffffffffdffffff8ffffffffd3fffff4ffffffffd3fffff0fffffffff3ffffe0fffffffff3ffffc0ffffffffd1ffff'\n",
      "65, b'0180feffffff00ffff00fbffffff00feff00efffffff00feff00ffffff7f20fdff00ffffff3ff0ffff00ffffff1ff8ffff00feffff1ff8ffff00fcffff07f8ffff'\n",
      "65, b'0200f8ffff07f8ffff00e0ffff07f8ffff0060ffff00d0ffff00c0ff7f00c0ffff0000ff7f00c0ffff0000fc7f0080ffff0000f6ff0180ffff0000feff17c0ffff'\n",
      "65, b'030080ffff00c0ffff00f8ff1f00c0ffff0078703f0080ffff0000c87f0000ffff0000c8ff0000fcff0000e07f0000f8ff0000e07f0000e0ff0000f0511000c0ff'\n",
      "65, b'040000f0190000c0ff0000f079000081ff0000f81b000081ff0000f001000081ff0080e8000000c1ff0000ec000000e1ff00005c000000f1ff0000fc000000ffff'\n",
      "65, b'050000e8000000fbff0000fc000000fbff0080fe000000e2ff0000fc00000080ff00207e00000080ff00003d00000080ff00807f00000080ff00807f01000080ff'\n",
      "65, b'0600807f00000080ff00c03f000000c0df00a02f000000c0bf00d00f000000c0ff00c01f0000e0e0ff00c07f0000e0f37f00c01f0000e0f7ff00e01f0000c0ffff'\n",
      "65, b'0700f02f0000b8ffcb00800f0000f0ffbf00e0070000e0ff1d00a0070000c07f7100d0110000c0ff2000f0100000804f0080f0000000001e2080f5000000000a00'\n",
      "65, b'00fff7fffffffffffffffffffffff7fffffef7ffffffd7fffffcffffffffd3fffffcffffffffd7fffff0fffffffff7fffff0ffffffffd7ffffc0ffffffff81ffff'\n",
      "65, b'0180feffffff05ffff40f7ffffff00ffff00efffff7f00ffff00ffffff7f30feff00ffffff3ff8ffff00feffff1ffcffff00feffff1ffcffff00fcffff07fcffff'\n",
      "65, b'0200f8ffff03f8ffff00e0ffff03f8ffff00d0ffff01f0ffff0080ffff00c0ffff0000ff7f00c0ffff0000faff00c0ffff0000faff0b80ffff0000feff07c0ffff'\n",
      "65, b'030080ffff00e0ffff00f8ff1900e0ffff0078e03f0080ffff0000f03f0080ffff0000f01f0000fcff0000e0ff0000f8ff0000ec7b0000f0ff0000f0510000e0ff'\n",
      "65, b'040000a0190000c0ff0000f87d0080c0ff0000fc1b008080ff0000b0010080c1ff0000b0000080e1ff0000f8000080e1ff000058000080f1ff0000c2000080ffff'\n",
      "65, b'050000ec000080fdff0000fa000000f9ff0000fe000000f2ff00007f00000080ff0000ff00000080ff00006f00000080ff00007f00000080ff00003f00000080ff'\n",
      "65, b'0600c07f000000d0ff00003f000000c0df00801f000000c0bf00c01f000000f0ff00e05f0000f0f0ff00c01f0000e0f17f00c01f0000e0ffff00a03f0000c0ffff'\n",
      "65, b'0700f00f0000f8ffff00c00f0000f8ff7f00e0070000e0ff1d00e0170000c0ff7300d4010000c0ff0000f0010000c47f0080e0000000801f0080e0080000000a00'\n",
      "65, b'00fff7fffffffffffffffffffffff7fffffeffffffffd7fffffcf7ffffffdbfffff8ffffffffd3ffffe0fffffffff3ffffe0ffffffffd3ffffe0ffffffff83ffff'\n",
      "65, b'01c0feffffff00ffff00fbffffff00feff00efffffff00feff00ffffff7fb0feff00ffffff7ff8ffff00feffff1ffcffff00feffff1ffcffff00fcffff07fcffff'\n",
      "65, b'0200f8ffff07fcffff00e0ffff01f8ffff00c0ffff01f0ffff0080ffff00e0ffff0000ff7f00c0ffff0000fe7f00e0ffff0000fcff0be0ffff0000fcff07e0ffff'\n",
      "65, b'030080ffff00e0ffff00f8ff1b00e0ffff0078387f00c0ffff0000c4770080ffff0000f47f0000feff0000c07f0000f8ff0000e0ff0000e0ff0000e0110000c0ff'\n",
      "65, b'040000f0510080c0ff0000fc3b0080c0ff0000f01b0080c0ff0000f0010080e0ff0000bc000080f1ff000078000080f1ff000098000080ffff000068000080ffff'\n",
      "65, b'05000098000080fdff00007a000000f9ff0000fa000000faff00807f00000080ff00006e00000082ff00003f00000080ff00007f00000080ff00803f000000c0ff'\n",
      "65, b'0600006f000000c0ff00403f000000c0ff00c01f000000e8ff00c00f000040e0ff00e01f0000f0f8ff00d11f0000f0f97f00c01f0000e0efff00e03f0080e0ffff'\n",
      "65, b'0700f00f0000fcffdf0080070000f8ffff00c0170000f8ff1900e0170000e0fff100e0010000c0cf2000f0010000c0df0000e0000000c43d0080e0080000801f00'\n",
      "65, b'00fff7fffffffffffffefffffffffffffffcf7ffffffdbfffffcffffffffd3fffff8ffffffffd3fffff0fffffffff3fffff0ffffffffd3ffffc0ffffffff81ffff'\n",
      "65, b'0180feffffff01ffff00ffffffff00feff00efffffff00feff00ffffff7f38feff00ffffff3ffcffff00feffff3ffcffff00feffff1ffcffff00fcffff0ffcffff'\n",
      "65, b'0200f8ffff07fcffff00e0ffff03f8ffff00d0ffff02f0ffff00c0ffff00f0ffff0000ff7f00c0ffff0000ff7f00e0ffff0000fcff01e0ffff0000feff07e0ffff'\n",
      "65, b'030080ffff00e0ffff00f8ff0f00e0ffff0078f03f00c0ffff0000f07f0080ffff0000f07f0000feff0000d07f0000fcff0000e03f0000f0ff0000f0510000e0ff'\n",
      "65, b'040000f0190080e0ff0000f03d0080c0ff0000f43b0080c0ff0000f8010080e0ff0000fc000080f0ff0000f8000080f1ff000018000080fbff000090000080ffff'\n",
      "65, b'050000f8000080fdff0000fe000000f9ff0000fe000000f8ff0000fc000000c0ff00007e00000082ff00007f00000082ff00007f000000c0ff00007f000000c0ff'\n",
      "65, b'0600803f000000c0ff00003f000000c0ff00201f000000e8ff00c01f000040e8ff00c01f0000f0f87f00c01f0000f0f97f00c03f0000e0fbff00e02f0000e0ffff'\n",
      "65, b'0700f00f0000fcffff00e0070000f8ffff00e0170000f8ff1d00e0030000e0fff100f0010000e0ff0000e0010000c05f0080e0080000c41f2080c0080000801f00'\n",
      "65, b'00fff7fffffffffffffefffffffffffffffcffffff3ffefffffcffffff0ffefffffcffffff07fcffffe0ffffff03fcfffff0ffffff01fdffffa0ffffff01fcffff'\n",
      "65, b'01e0feff7f00fcffff00fbff7f00feffff00efff3f00eeffff40ffff3f00ffffff00ffff3f00ffffff00ffff1f80ffffff00feff1fc0ffffff00fcff1fc0ffffff'\n",
      "65, b'0200f8ff1fe0ffffff00e8ff1fe0ffffff00c0ff1fe0ffffff0090ff1fe0ffffff00c0ff1fc0ffffff0080ff0fc0ffffff0000fc1fc0ffffff0000ff1f80ffffff'\n",
      "65, b'030080ff1fc0ffffff00f8ff1fc0ffffff0078e01fc0ffffff0000ec1f80ffffff0000f81f80ffffff0000f01f00ffffff0000e81f00ffffff0000f81100f0ffff'\n",
      "65, b'040000f01100f0ffff0000f41b00e0ffff0000f41b00f0ffff0000e80100f8ffff0000fa0140f8ffff0000fb0040f8ffff0000fc00c0f8ffff0000fa00c0ffffff'\n",
      "65, b'050000fc00c0fdffff0000fe00c0fcffff00007e00c0f8ffff0000ff00c0d8ffff00007f00c080ffff00005e010080ffff00c07f000090ffff0080de000090ffff'\n",
      "65, b'0600807f000090ffff00c01f000090ffff00203f000090ffff00c01f0000d0ffff00a00f0000d0ffff00e8070000b0ffff00e80700c0f0ffff00e80300e033ffff'\n",
      "65, b'0700e00300f03ffeff00c00300f03ffcff00e00300f07ffcff00e00000f07ff8ff00e00000e0fff8ff00600000f8ffe0f180000000f8ff80f380540000f0ff0073'\n",
      "65, b'00fff7fffffefffffffeffff3ffcfffffffeffff1ff0fffffff8ffff0fc0fffffff8ffff0740fffffff0ffff0300fffffff0ffff0200ffffffa0ffff0380feffff'\n",
      "65, b'01c0fe7f0318feffff40f7ff0010feffff00efff003cfeffff00ff3f007cfeffff00ff7f00fefeffff00fe7f00feffffff00fe7f00ffffffff00fc3f00ffffffff'\n"
     ]
    },
    {
     "name": "stdout",
     "output_type": "stream",
     "text": [
      "65, b'0200f87f80feffffff00e07f00ffffffff00c07f00ffffffff00c07f00ffffffff00807d00feffffff00007e00feffffff00007e00fcffffff00007e00fcffffff'\n",
      "65, b'0300807f00feffffff00f87f00feffffff00783400feffffff00000000feffffff00006000feffffff00004000fcffffff00007000f8ffffff0000700080ffffff'\n",
      "65, b'040000700000ffffff0000600000ffffff0000a00040ffffff0000f80080ffffff00007800c0ffffff00006800c1ffffff00001800c1ffffff00008800c1ffffff'\n",
      "65, b'0500007800c7ffffff0000fc00e7ffffff0000fe00c7ffffff00007f0003ecffff00007e0007e8ffff0000ff0007e8ffff00007e0007e8ffff00803f0046e0ffff'\n",
      "65, b'0600803f0080e0ffff00c03f0080e0ffff00c01e0080e4ffff00001f0080c5ffff00e0060080c5ffff00e0010080d7ffff00d1000080c5ffff0060000000c5ffff'\n",
      "65, b'0700400000828dffff004000009e8dffff00200000fe1dffff00000080ff1fffff00080080ff3fe9fb00000080ff3fc0f380000080df3fc0f300000000ff3f80f3'\n",
      "65, b'00fff7fffffffffffffffffffffffffffffeffffff0ffffffff8ffffff07fefffffcffffff03fcfffff0ffffff01fcfffff0ffffff00fcffffe0ffffff00fbffff'\n",
      "65, b'01c0feff7f00f6ffff00fbff3f00feffff00efff1f00ffffff00ffff1f80ffffff00ffff1f80ffffff00ffff1fc0ffffff00feff1fe0ffffff00feff0ff0ffffff'\n",
      "65, b'0200f8ff0ff0ffffff00f0ff0fe0ffffff00f0ff0fe0ffffff0000ff0fe0ffffff0000ff0fc0ffffff0000ff0fc0ffffff0000fe0fc0ffffff0040fe0fc0ffffff'\n",
      "65, b'030080ff0fc0ffffff00f8ff0fc0ffffff0058f40fc0ffffff0000c80f80ffffff0000f40f80ffffff0000e00f00ffffff0000e00b00f8ffff0000f01100f0ffff'\n",
      "65, b'040000f01100f0ffff0000f21b00f8ffff0000fa1b00f0ffff0000f40220f8ffff0000fc0120f8ffff0000f20060f8ffff00008800e0f8ffff0000f801e0ffffff'\n",
      "65, b'050000f600e0fcffff0000fc00e0fcffff0000fe00e0fcffff00007f00e0c8ffff00003e00c0c0ffff0040fc000080ffff0000ee000094ffff0000ff000090ffff'\n",
      "65, b'0600403f000098ffff00801f000098ffff00c01f0000d8ffff00c01f0000d8ffff00b0070000d8ffff00e1070020b0ffff00c0030060f8ffff00f00300e0b3ffff'\n",
      "65, b'0700a00100f83ffeff00c00100f83ffeff00e00000f07ffcff00e00000f07ffcff00600000e0fff8fb00000000b4ffe0f380200000fcff00f380100000b0ff0071'\n",
      "65, b'00fff7fffffffbfffffdfffffffff3fffffeffffffffd7fffffcffffffffd3fffff0fffffffff1fffff8fffffffff3fffff0fffffffff1ffffe0fffffffff1ffff'\n",
      "65, b'0180feffffffa1ffff00fbffffff01feff00efffffff00fcff00ffffff7f80fcff00ffffff3fc0ffff00feffff1fe0ffff00feffff1ff0ffff00feffff0bf0ffff'\n",
      "65, b'0200faffff07f8ffff00e0ffff03f8ffff00c0ffff00c0ffff00c0ffff00c0ffff0080ff7f0080ffff0080f6bf0000ffff0000fc7f0300ffff0000ffff0f80ffff'\n",
      "65, b'030080ffff0080ffff00f8ff040080ffff0078f03f0000ffff0000f01f0000feff0000b0d70000f8ff0000f07f0000f0ff0000e0f30000e0ff0000e811000080ff'\n",
      "65, b'040000e0d1000000ff0000f07f000000fe0000f03b000002fe0000f003000002fe0000f001000006fe00006801000086ff00009800000086ff0000e0000000c6ff'\n",
      "65, b'050000d8000000e6ff0000ff000000e4ff0000ff00000080ff00007e00000000fe00007c00000000fe0000ff00000000fe00807e00000000fe00407d00000000fe'\n",
      "65, b'0600807f00000000ff00803f04000000df00003e00000000bf00803f00000080ff00801f0000c0837f00809f000080c52f00e01f000080cffd00e83f000038ffdb'\n",
      "65, b'0700e05f000060ff4800e00f0000e0be7000f00f0000806d1800a02f0000805d7000c020000000994000e0010000001800800000000000040000b0000000000000'\n",
      "65, b'00fff7fffffffffffffffffffffffffffffcffffffffd3fffffcffffffffd3fffff8ffffffffd3fffff0fffffffff3fffff0fffffffff3ffffe0ffffffffe1ffff'\n",
      "65, b'0180ffffffffe0ffff00fbffffff20ffff00efffff7f00feff00ffffff7f80fdff00ffffff3fc0ffff00feffff3fe0ffff00feffff0ff0ffff00fcffff0ff0ffff'\n",
      "65, b'0200f8ffff07f0ffff00e0ffff03f8ffff00d0ffff01c0ffff00c0ffff0080ffff0080ff7f0080ffff0080fc7f0000ffff0000f8ff0800ffff0000feff0f80ffff'\n",
      "65, b'030080ffff0080ffff00f8ff1f0000ffff0078e01f0000feff0000e03f0000fcff0000e03f0000f8ff0000c03f0000e0ff0000e03f0000c0ff0000c051000080ff'\n",
      "65, b'040000f051000000ff0000f03d000004fe0000f01b000004fe0000f801000004fe0000f400000004fe0000f800000004ff00003800000084ff0000b0000000c4ff'\n",
      "65, b'050000d8000000e4ff0000b8000000e4ff0000fc00000088ff00007f00000000fe00007e00000000fe00007e00000000fe00007f00000000fe00803f00000000fe'\n",
      "65, b'0600807f00000000ff00c07f00000000df00003f00000000bf00c01f00000080ff00c01f0000c0817f00c01f000080c76f00e13f000080cffd00e05f000030fffb'\n",
      "65, b'0700e01f0000e0ff4800c00f0000c0fd6000e02f0000807d0800e0270000005d1000e001000000990000e001000000360080c000000000100080f0100000000000'\n",
      "65, b'00fff7fffffffffffffdfffffffffffffffeffffffffd3fffffcf7ffffffd3fffff8ffffffffd3fffff0ffffffff81ffffc0ffffffff02fffff0ffffffff00ffff'\n",
      "65, b'01c0ffffff7f00ffff00fbffff7f10feff00efffff3f18ffff00ffffff3ffcffff00ffffff1ffeffff00feffff1ffcffff00feffff1ffcffff00feffff0ffcffff'\n",
      "65, b'0200f8ffff07f8ffff00c0ffff03f0ffff00e0ffff01c0ffff00c0ffff00e0ffff0080ff3f00e0ffff0000feff00e0ffff0000feff00f0ffff0000feff0fe0ffff'\n",
      "65, b'030000ffff00e0ffff00f8ff3f00c0ffff0078e41f00c0ffff0000e03f0000ffff0000b05f0000feff0000c07f0000fcff0000f0bf0000f0ff0000f0510000e0ff'\n",
      "65, b'040000e0110000e0ff0000f03d0080c0ff0000e0330080c0ff0000b8000080f0ff000074000080f0ff0000f8000080f8ff000070000080fdff000068000080fdff'\n",
      "65, b'0500007c000080fcff0000fc000080f9ff00007f000000e9ff00007a000000c0ff00007c000000c2ff00003f000000c0ff00006f000000c0ff00802f000000c0ff'\n",
      "65, b'0600007f000000e0ff00c01f000000e0ff00400f000000e8ff00c01f000000f0ff00c01e000060f8ff00c0170000f8f97f00e01f0000f0fbff00d81f0000e0ffff'\n",
      "65, b'0700e0070000e4ffff00f0070000fcffff00e00b0000f8ff9f00a0030000f0ff73008001000060df6000e001000060df4080a4000000801f2080f4040000400400'\n",
      "65, b'000000f0ff0fc0ffff0000fcff0fc0ffff0000e8ff07c0ffff0000c0ff0100ffff000080780200ffff000000100000ffff000000000000ffff000000000000feff'\n",
      "65, b'01000000000000feff000000000000f8ff000800000080f8ff001800000080f9ff0018000000c0f9ff0018000000c0fbff0008000000c0f3ff0000000000e0fbff'\n",
      "65, b'020000000000c0f7ff0000000000c0ffff0000000000c0ffff000000000080ffff000000000080ffff0000000000c0ffff0000000000c0ffff0000000000c0ffff'\n",
      "65, b'03000000000080ffff000000000080ffff000000000000ffff000000000000ffff000000000000feff000000000000fcff000000000000fcff000000000000f8ff'\n",
      "65, b'04000000000000f8ff000000000000f8ff000000000000f8ff000000000000fcff000000000000feff000000000000feff000000000010feff000000000010feff'\n",
      "65, b'05000000000010fcff000000000010f8ff000000000000f8ff000000000000f87f000000000000f8bf000000000000f8ff000000000000fcff000000000000fc7f'\n",
      "65, b'06000000000000fc7f000000000000fc57000000000000fe17000000000000fe01000000000000fe09000000000000fe01000000000000fe00000000000008fe00'\n",
      "65, b'07000000000080fe000000000000003400000000000000280000000000000008000000000000000000000000000000000000000000000000000000000000000000'\n",
      "65, b'00fffffffffffffffffffffffffffffffffffffffffffffffffffffffffffffffffdfffffffffffffffefffffffff1fffffeffffff7fe0fffff0ffffff7f80ffff'\n",
      "65, b'01fcffffff3fc0fffff8ffffff1fc4ffff28efffff1faeffffe0ffffff1fffffff00ffffff8fffffff80ffffff8fffffff00feffffcfffffff00feffffcfffffff'\n",
      "65, b'0280faffffefffffff00feffff07feffff00fcffff07fcffff00f8ffff07f8ffff00f8ffff03f8ffff00f0ffff07f8ffff00f0ffff07fcffff00e0ffff07fcffff'\n",
      "65, b'0300d8ffff03fcffff00f8ffff03f8ffff00f8ffff07f0ffff0000ffff03c0ffff00c0ffff0380ffff00e0ffff0300feff00c0ffff0300fcff00c0ffff0300fcff'\n",
      "65, b'0400e0ffff0320fcff00d0ffff0330fcff00c0fffb0020fcff00d4ffa30020fcff00e4ff030070fcff00f0ff0b02e0feff00f0ff0302f0ffff00e0ff0300f0ffff'\n",
      "65, b'0500d0ff010070ffff00f0ff010060ffff00f8ff010040feff00f0ff010080f2ff00f2ff070080f0ff00faff010080f1ff00feff030400e0ff00f8ff010000f0ff'\n",
      "65, b'0600f4ff010000f2ff00feff000000f2ff00f63f000000faff00fe1f000010faff00ff1f00003efeff00ff1f00007cfeff00ff0f0000fcfeff00fd0f0000fcffff'\n",
      "65, b'0700fd0f0000fcffff00ff0b0080ffffff00ff030000ffffff00ff010000fef7ff00ff050000fae7fb80ff050000f8eff180ff000080fc8ffb80ff000000f80ff1'\n",
      "65, b'00fffffffffffffffffffffffffffffffffffffffffffffffffffffffffffffffffffffffffffffffffffffffffffffffffeffffffffe7fffffeffffffffc3ffff'\n",
      "65, b'01f8feffffff80fffff8ffffff7f90ffffb8efffff7ffcfffff0ffffff3ffeffff20ffffff3ffeffff00ffffff3fffffff00ffffff1fffffff00feffff9fffffff'\n",
      "65, b'0200faffff9fffffff00ffffffdffeffff00feffff1ffcffff00fcffff0ff8ffff00fcffff0ff0ffff00f8ffff0ff0ffff00f0ffff0ff8ffff00f8ffff0ff8ffff'\n",
      "65, b'0300d8ffff03f8ffff00f8ffff07f0ffff00f8ffff07e0ffff00e8ffff07c0ffff00f0ffff0780ffff00e0ffff0700ffff00f8ffff0740f8ff00e8ffff0740f8ff'\n",
      "65, b'0400e0ffff0740f8ff00f0ffff0740f8ff00e4ffff0440f0ff00fcffa30040f8ff00f0ff0b00c0f8ff00f4ff0b02c0fcff00f8ff0302e0ffff00f0ff0700e0ffff'\n",
      "65, b'0500f8ff0100e0feff00fcff0100c0feff00f8ff010080fcff00f8ff030000f6ff00feff070000c1ff00feff030000c3ff00feff030000c0ff00feff010000e0ff'\n"
     ]
    },
    {
     "name": "stdout",
     "output_type": "stream",
     "text": [
      "65, b'0600feff010000e4ff00feff010000e4ff00fe3f000000f4ff00fe3f000030f4ff00ff3f00007efcff00ff1f0000fcfcff00ff1f0000f8fdff00ff1f0000f8ffff'\n",
      "65, b'0700ff0700c0fbffff00ff070000feffff00ff0b0000feffff00ff030000fcffff00ff010000f0effb80ff050020f0eff180ff040000f18ff180ff040000e10ff1'\n"
     ]
    },
    {
     "ename": "KeyboardInterrupt",
     "evalue": "",
     "output_type": "error",
     "traceback": [
      "\u001b[0;31m---------------------------------------------------------------------------\u001b[0m",
      "\u001b[0;31mKeyboardInterrupt\u001b[0m                         Traceback (most recent call last)",
      "\u001b[0;32m<ipython-input-51-5996c8c83661>\u001b[0m in \u001b[0;36m<module>\u001b[0;34m()\u001b[0m\n\u001b[1;32m     39\u001b[0m         \u001b[0marduino\u001b[0m\u001b[0;34m.\u001b[0m\u001b[0mflush\u001b[0m\u001b[0;34m(\u001b[0m\u001b[0;34m)\u001b[0m\u001b[0;34m\u001b[0m\u001b[0m\n\u001b[1;32m     40\u001b[0m         \u001b[0mprint\u001b[0m\u001b[0;34m(\u001b[0m\u001b[0;34m'%s, %s'\u001b[0m \u001b[0;34m%\u001b[0m \u001b[0;34m(\u001b[0m\u001b[0mln\u001b[0m\u001b[0;34m,\u001b[0m \u001b[0mbinascii\u001b[0m\u001b[0;34m.\u001b[0m\u001b[0mhexlify\u001b[0m\u001b[0;34m(\u001b[0m\u001b[0msbuff\u001b[0m\u001b[0;34m)\u001b[0m\u001b[0;34m)\u001b[0m\u001b[0;34m)\u001b[0m\u001b[0;34m\u001b[0m\u001b[0m\n\u001b[0;32m---> 41\u001b[0;31m         \u001b[0mtime\u001b[0m\u001b[0;34m.\u001b[0m\u001b[0msleep\u001b[0m\u001b[0;34m(\u001b[0m\u001b[0;36m0.1\u001b[0m\u001b[0;34m)\u001b[0m\u001b[0;34m\u001b[0m\u001b[0m\n\u001b[0m\u001b[1;32m     42\u001b[0m \u001b[0;34m\u001b[0m\u001b[0m\n\u001b[1;32m     43\u001b[0m     \u001b[0mcv2\u001b[0m\u001b[0;34m.\u001b[0m\u001b[0mimshow\u001b[0m\u001b[0;34m(\u001b[0m\u001b[0;34m'frame'\u001b[0m\u001b[0;34m,\u001b[0m \u001b[0mobuff\u001b[0m\u001b[0;34m)\u001b[0m\u001b[0;34m\u001b[0m\u001b[0m\n",
      "\u001b[0;31mKeyboardInterrupt\u001b[0m: "
     ]
    }
   ],
   "source": [
    "while True:\n",
    "    while True:\n",
    "        rline = arduino.readline().strip()\n",
    "        if len(rline) > 0:\n",
    "            print(rline)\n",
    "        else:\n",
    "            break\n",
    "        \n",
    "    if src_dev == 0:\n",
    "        ret, frame = cap.read()\n",
    "        rgb = cv2.cvtColor(frame, cv2.COLOR_BGR2GRAY)\n",
    "    else:\n",
    "        rgb = np.array(sct.grab(monitor))\n",
    "        rgb = cv2.cvtColor(rgb, cv2.COLOR_BGR2GRAY)\n",
    "\n",
    "    obuff=cv2.resize(rgb, (64, 64))#, interpolation = cv2.INTER_NEAREST)\n",
    "    ret, obuff = cv2.threshold(obuff, 128, 255, cv2.THRESH_BINARY)\n",
    "    #print(obuff)\n",
    "    #break\n",
    "    \n",
    "    nobuff = bytearray(int(64*64/8))  # bitmap picture, 1 Byte = 8 pixels\n",
    "    cbit = 0\n",
    "    for i in range(64*64):\n",
    "        bout = obuff[i//64][i%64] > 0\n",
    "        if bout:\n",
    "            nobuff[i//8] |= 1 << (i%8)\n",
    "            \n",
    "    #print(binascii.hexlify(nobuff))\n",
    "\n",
    "    sbuff = bytearray(65)\n",
    "    off = 0\n",
    "    for r in range(8):\n",
    "        sbuff[0] = r\n",
    "        for i in range(64):\n",
    "            sbuff[1+i] = nobuff[off+i]\n",
    "        off += 64\n",
    "\n",
    "        ln = arduino.write(sbuff)\n",
    "        arduino.flush()\n",
    "        print('%s, %s' % (ln, binascii.hexlify(sbuff)))\n",
    "        time.sleep(0.1)\n",
    "   \n",
    "    cv2.imshow('frame', obuff)\n",
    "    cv2.waitKey(1)\n",
    "    #time.sleep(2)\n",
    "    #break\n"
   ]
  },
  {
   "cell_type": "code",
   "execution_count": null,
   "metadata": {},
   "outputs": [],
   "source": [
    "cv2.destroyAllWindows()"
   ]
  },
  {
   "cell_type": "code",
   "execution_count": null,
   "metadata": {},
   "outputs": [],
   "source": [
    "#w, h = 200, 200\n",
    "#monitor = {'top': 0, 'left': 0, 'width': w, 'height': h}\n",
    "#img = Image.frombytes('RGB', (w,h), sct.grab(monitor).rgb)\n",
    "#cv2.imshow('frame', np.array(img))\n",
    "cv2.imshow('frame', np.array(sct.grab(monitor)))\n",
    "if cv2.waitKey(0) & 0xFF == ord('q'):\n",
    "    cv2.destroyAllWindows()\n",
    "    "
   ]
  },
  {
   "cell_type": "code",
   "execution_count": null,
   "metadata": {},
   "outputs": [],
   "source": [
    "ret, frame = cap.read()\n",
    "rgb = cv2.cvtColor(frame, cv2.COLOR_BGR2BGRA)\n",
    "print(rgb[0][0])"
   ]
  },
  {
   "cell_type": "code",
   "execution_count": null,
   "metadata": {},
   "outputs": [],
   "source": [
    "cap.release()"
   ]
  },
  {
   "cell_type": "code",
   "execution_count": null,
   "metadata": {},
   "outputs": [],
   "source": [
    "while(True):\n",
    "#for i in range(2):\n",
    "    ret, frame = cap.read()\n",
    "    rgb = cv2.cvtColor(frame, cv2.COLOR_BGR2BGRA)\n",
    "    W = 200\n",
    "    roff = random.randrange((720-W)*(720-W))\n",
    "    for r in range(W):\n",
    "        for q in range(W):\n",
    "            rgb[(roff//720)+r][(roff%720)+q] = [0x0, 0xff, 0x00, 0xff]\n",
    "    \n",
    "    ob = cv2.resize(rgb, (64,64))\n",
    "    cv2.imshow('image', random.randrange(3,10)*rgb)\n",
    "    if cv2.waitKey(1) & 0xFF == ord('q'):\n",
    "        out = cv2.imwrite('capture.jpg', frame)\n",
    "        break\n",
    "\n",
    "cap.release()\n",
    "cv2.destroyAllWindows()\n",
    "   \n"
   ]
  },
  {
   "cell_type": "code",
   "execution_count": null,
   "metadata": {},
   "outputs": [],
   "source": [
    "import serial, time\n",
    "arduino = serial.Serial('/dev/cu.SLAB_USBtoUART', 115200, timeout=.1)"
   ]
  },
  {
   "cell_type": "code",
   "execution_count": null,
   "metadata": {},
   "outputs": [],
   "source": [
    "buff=bytearray(65)"
   ]
  },
  {
   "cell_type": "code",
   "execution_count": null,
   "metadata": {},
   "outputs": [],
   "source": [
    "arduino.write(b'\\x04'+buff)"
   ]
  },
  {
   "cell_type": "code",
   "execution_count": null,
   "metadata": {},
   "outputs": [],
   "source": [
    "for i in range(65):\n",
    "    buff[i] = i"
   ]
  },
  {
   "cell_type": "code",
   "execution_count": null,
   "metadata": {},
   "outputs": [],
   "source": [
    "for j in range(10):\n",
    "    for i in range(10):\n",
    "        buff[0] = i\n",
    "        ln = arduino.write(buff)\n",
    "        print('%s' % ln)\n",
    "        time.sleep(0.1)\n"
   ]
  },
  {
   "cell_type": "code",
   "execution_count": 13,
   "metadata": {},
   "outputs": [
    {
     "name": "stdout",
     "output_type": "stream",
     "text": [
      "b'\\x80\\x80\\x00\\x80\\x00\\x80\\x80\\x80\\x00\\x80\\x00\\x00\\x00\\x80\\x00\\x80\\x80\\x80\\x80\\x80\\x00\\x80\\x80\\x00\\x00\\x00\\x00\\x00\\x00\\x00\\x00\\x00\\x00\\x00\\x00\\x00\\x80\\x00\\x00\\x00\\x80\\x00\\x00\\x00\\x00\\x00\\x00\\x00\\x00\\x80\\x00\\x00\\x00\\x00\\x00\\x00\\x00\\x00\\x80\\x00\\x80\\x80\\x80\\x00\\x80\\x80\\x00\\x80\\x80\\x00\\x00\\x80\\x00\\x80\\x80\\x00\\x00\\x80\\x00\\x00\\x00\\x80\\x80\\x00\\x80\\x00\\x80\\x80\\x00\\x80\\x00\\x00\\x00\\x00\\x80\\x80\\x00\\x00\\x00\\x00\\x00\\x80\\x00\\x00\\x80\\x80\\x80\\x00\\x80\\x80\\x80\\x80\\x80\\x80\\x80\\x00\\x80\\x00\\x00\\x80\\x80\\x80\\x00\\x80\\x00\\x00\\x80\\x80\\x80\\x80\\x00\\x00\\x80\\x80\\x80\\x80\\x00\\x80\\x80\\x00\\x80\\x80\\x80\\x80\\x00\\x80\\x00\\x80\\x80\\x80\\x80\\x00\\x80\\x00\\x00\\x80\\x00\\x00\\x00\\x80\\x80\\x80\\x80\\x80\\x80\\x80\\x00\\x80\\x80\\x00\\x80\\x00\\x00\\x00\\x00\\x80\\x80\\x00\\x00\\x80\\x00\\x00\\x00\\x00\\x00\\x80\\x00\\x80\\x00\\x80\\x80\\x00\\x80\\x80\\x80\\x00\\x00\\x80\\x80\\x80\\x80\\x00\\x00\\x80\\x80\\x00\\x80\\x80\\x00\\x80\\x80\\x00\\x80\\x80\\x80\\x80\\x80\\x80\\x00\\x00\\x80\\x00\\x00\\x80\\x80\\x00\\x80\\x80\\x00\\x80\\x80\\x00\\x00\\x80\\x80\\x80\\x80\\x00\\x00\\x80\\x80\\x00\\x80\\x80\\x00\\x80\\x00\\x80\\x80\\x80\\x80\\x00\\x80\\x00\\x80\\x80\\x00\\x00\\x80\\x00\\x80\\x00\\x80\\x80\\x80\\x80\\x00\\x80\\x80\\x00\\x00\\x80\\x80\\x00\\x80\\x80\\x80\\x00\\x80\\x80\\x00\\x80\\x80\\x00\\x80\\x80\\x00\\x80\\x00\\x80\\x00\\x00\\x00\\x80\\x00\\x00\\x00\\x00\\x00\\x00\\x80\\x80\\x00\\x80\\x80\\x00\\x80\\x80\\x00\\x80\\x80\\x80\\x00\\x00\\x80\\x00\\x00\\x00\\x00\\x00\\x80\\x00\\x00\\x00\\x80\\x00\\x80\\x80\\x00\\x80\\x80\\x80\\x00\\x00\\x80\\x80\\x80\\x80\\x80\\x00\\x80\\x80\\x00\\x80\\x00\\x00\\x00\\x00\\x80\\x80\\x80\\x00\\x80\\x80\\x80\\x00\\x80\\x80\\x80\\x00\\x00\\x80\\x00\\x80\\x00\\x80\\x00\\x80\\x80\\x80\\x80\\x80\\x80\\x80\\x80\\x80\\x00\\x00\\x80\\x00\\x00\\x80\\x00\\x80\\x80\\x00\\x80\\x00\\x00\\x00\\x00\\x80\\x00\\x00\\x00\\x00\\x00\\x80\\x00\\x80\\x00\\x80\\x80\\x80\\x80\\x00\\x00\\x80\\x00\\x00\\x80\\x00\\x80\\x80\\x00\\x80\\x00\\x00\\x00\\x00\\x80\\x00\\x00\\x00\\x00\\x00\\x80\\x00\\x00\\x00\\x80\\x80\\x80\\x80\\x00\\x00\\x80\\x00\\x00\\x80\\x00\\x80\\x80\\x00\\x80\\x00\\x00\\x00\\x00\\x80\\x00\\x00\\x00\\x00\\x00\\x80\\x00\\x80\\x00\\x80\\x80\\x00\\x80\\x00\\x00\\x80\\x80\\x80\\x00\\x00\\x80\\x00\\x00\\x80\\x00\\x80\\x80\\x00\\x80\\x00\\x00\\x00\\x00\\x80\\x00\\x00\\x00\\x00\\x00\\x80\\x00\\x00\\x80\\x80\\x00\\x00\\x80\\x80\\x80\\x80\\x00\\x00\\x80\\x00\\x00\\x80\\x00\\x80\\x80\\x00\\x80\\x00\\x00\\x00\\x00\\x80\\x00\\x00\\x00\\x00\\x00\\x80\\x00\\x80\\x80\\x80\\x00\\x80\\x80\\x80\\x80\\x00\\x00\\x80\\x00\\x00\\x80\\x00\\x80\\x80\\x00\\x80\\x00\\x00\\x00\\x00\\x80\\x00\\x00\\x00\\x00\\x80\\x80\\x00\\x00\\x80\\x00\\x80\\x80\\x80\\x80\\x80\\x80\\x80\\x00\\x00\\x80\\x80\\x80\\x00\\x80\\x00\\x80\\x00\\x00\\x00\\x80\\x80\\x00\\x00\\x80\\x80\\x00\\x80\\x00\\x80\\x00\\x00\\x00\\x80\\x00\\x80\\x00\\x80\\x80\\x80\\x80\\x80\\x80\\x00\\x80\\x80\\x80\\x80\\x80\\x00\\x00\\x00\\x00\\x80\\x80\\x00\\x80\\x80\\x00\\x80\\x80\\x00\\x80\\x00\\x80\\x00\\x00\\x80\\x80\\x00\\x00\\x80\\x00\\x00\\x80\\x80\\x80\\x80\\x80\\x80\\x00\\x80\\x00\\x00\\x80\\x00\\x80\\x00\\x00\\x00\\x00\\x80\\x80\\x00\\x00\\x00\\x00\\x80\\x00\\x00\\x80\\x00\\x00\\x80\\x00\\x00\\x00\\x00\\x80\\x00\\x00\\x00\\x00\\x00\\x80\\x00\\x00\\x80\\x80\\x80\\x80\\x00\\x80\\x00\\x80\\x80\\x00\\x80\\x00\\x00\\x80\\x00\\x80\\x80\\x00\\x00\\x80\\x00\\x00\\x80\\x80\\x80\\x80\\x80\\x80\\x00\\x80\\x00\\x00\\x80\\x00\\x80\\x00\\x00\\x00\\x00\\x80\\x80\\x00\\x00\\x00\\x00\\x80\\x00\\x00\\x80\\x00\\x00\\x80\\x00\\x00\\x00\\x00\\x80\\x00\\x00\\x80\\x00\\x80\\x00\\x80\\x00\\x00\\x80\\x80\\x80\\x80\\x00\\x80\\x00\\x80\\x80\\x00\\x80\\x00\\x80\\x00\\x00\\x00\\x00\\x00\\x00\\x00\\x80\\x80\\x00\\x00\\x80\\x00\\x00\\x80\\x80\\x80\\x80\\x80\\x00\\x00\\x00\\x00\\x00\\x00\\x00\\x80\\x80\\x80\\x00\\x80\\x80\\x00\\x80\\x80\\x00\\x80\\x80\\x00\\x00\\x80\\x00\\x00\\x00\\x00\\x00\\x00\\x00\\x00\\x00\\x80\\x80\\x80\\x80\\x80\\x80\\x80\\x80\\x80\\x80\\x80\\x00\\x00\\x00\\x80\\x00\\x80\\x80\\x00\\x00\\x80\\x00\\x00\\x80\\x80\\x80\\x80\\x80\\x80\\x00\\x80\\x00\\x00\\x80\\x00\\x80\\x00\\x00\\x00\\x00\\x80\\x00\\x80\\x00\\x00\\x00\\x00\\x00\\x80\\x80\\x00\\x00\\x00\\x00\\x00\\x00\\x00\\x00\\x00\\x00\\x80\\x00\\x00\\x80\\x80\\x80\\x80\\x00\\x80\\x00\\x80\\x80\\x00\\x80\\x00\\x00\\x00\\x00\\x80\\x00\\x00\\x00\\x00\\x00\\x80\\x00\\x80\\x80\\x00\\x00\\x80\\x00\\x00\\x80\\x80\\x80\\x80\\x80\\x00\\x00\\x00\\x00\\x00\\x00\\x00\\x80\\x80\\x80\\x00\\x80\\x80\\x00\\x80\\x80\\x00\\x80\\x80\\x00\\x00\\x80\\x00\\x00\\x00\\x00\\x00\\x00\\x00\\x00\\x00\\x80\\x80\\x80\\x80\\x80\\x80\\x80\\x80\\x80\\x80\\x80\\x00\\x00\\x00\\x80\\x00\\x80\\x80\\x00\\x00\\x80\\x00\\x00\\x80\\x80\\x80\\x80\\x80\\x80\\x00\\x80\\x00\\x00\\x80\\x00\\x80\\x00\\x00\\x00\\x00\\x80\\x00\\x80\\x00\\x00\\x00\\x00\\x00\\x00\\x00\\x00\\x00\\x00\\x80\\x00\\x00\\x00\\x00\\x00\\x00\\x80\\x00\\x00\\x80\\x80\\x80\\x80\\x00\\x80\\x00\\x80\\x80\\x00\\x80\\x00\\x80\\x80\\x80\\x00\\x00\\x00\\x00\\x80\\x00\\x00\\x00\\x80\\x80\\x00\\x00\\x80\\x00\\x80\\x80\\x00\\x80\\x00\\x80\\x80\\x00\\x80\\x80\\x00\\x00\\x80\\x80\\x00\\x80\\x00\\x00\\x00\\x00\\x00\\x80\\x00\\x80\\x00\\x00\\x00\\x00\\x00\\x00\\x00\\x00\\x00\\x00\\x80\\x00\\x80\\x00\\x00\\x80\\x00\\x80\\x80\\x80\\x00\\x00\\x80\\x00\\xfe\\x80\\x00\\x00\\x80\\x00\\x80\\x80\\x80\\x00\\x80\\x80\\x00\\x80\\x80\\x80\\x00\\x80\\x80\\x80\\x00\\x80\\x00\\x80\\x80\\x80\\x00\\x80\\x80\\x00\\x80\\x80\\x80\\x00\\x80\\x80\\x00\\x80\\x80\\x80\\x00\\x80\\x00\\x00\\x00\\x00\\x80\\x80\\x80\\x80\\x00\\x00\\x80\\x80\\x80\\x00\\x80\\x80\\x80\\x00\\x00\\x80\\x00\\x00\\x00\\x80\\x80\\x00\\x80\\x00\\x00\\x80\\x80\\x80\\x00\\x80\\x80\\x80\\x00\\x00\\x80\\x00\\x80\\x00\\x80\\x80\\x80\\x80\\x80\\x80\\x00\\x80\\x80\\x00\\x80\\x80\\x80\\x00\\x80\\x00\\x80\\x80\\x80\\x00\\x80\\x80\\x00\\x80\\x80\\x80\\x00\\x80\\x00\\x00\\x00\\x80\\x80\\x80\\x80\\x80\\x00\\x00\\x00\\x00\\x80\\x80\\x80\\x00\\x80\\x80\\x00\\x80\\x80\\x80\\x00\\x80\\x80\\x00\\x80\\x80\\x00\\x80\\x80\\x80\\x80\\x00\\x80\\x80\\x80\\x00\\x00\\x80\\x00'\n",
      "b''\n",
      "b''\n",
      "b''\n",
      "b''\n",
      "b''\n",
      "b''\n",
      "b''\n",
      "b''\n",
      "b''\n",
      "b''\n",
      "b''\n",
      "b''\n",
      "b''\n",
      "b''\n",
      "b''\n",
      "b''\n",
      "b''\n",
      "b''\n",
      "b''\n",
      "b''\n",
      "b''\n",
      "b''\n",
      "b''\n",
      "b''\n",
      "b''\n",
      "b''\n",
      "b''\n",
      "b''\n",
      "b''\n",
      "b''\n",
      "b''\n",
      "b''\n",
      "b''\n",
      "b''\n",
      "b''\n",
      "b''\n",
      "b''\n",
      "b''\n",
      "b''\n",
      "b''\n"
     ]
    },
    {
     "ename": "KeyboardInterrupt",
     "evalue": "",
     "output_type": "error",
     "traceback": [
      "\u001b[0;31m---------------------------------------------------------------------------\u001b[0m",
      "\u001b[0;31mKeyboardInterrupt\u001b[0m                         Traceback (most recent call last)",
      "\u001b[0;32m<ipython-input-13-d321b4226173>\u001b[0m in \u001b[0;36m<module>\u001b[0;34m()\u001b[0m\n\u001b[1;32m      1\u001b[0m \u001b[0;32mwhile\u001b[0m \u001b[0;32mTrue\u001b[0m\u001b[0;34m:\u001b[0m\u001b[0;34m\u001b[0m\u001b[0m\n\u001b[0;32m----> 2\u001b[0;31m     \u001b[0mprint\u001b[0m\u001b[0;34m(\u001b[0m\u001b[0marduino\u001b[0m\u001b[0;34m.\u001b[0m\u001b[0mreadline\u001b[0m\u001b[0;34m(\u001b[0m\u001b[0;34m)\u001b[0m\u001b[0;34m)\u001b[0m\u001b[0;34m\u001b[0m\u001b[0m\n\u001b[0m",
      "\u001b[0;32m~/.pyenv/versions/3.6.5/lib/python3.6/site-packages/serial/serialposix.py\u001b[0m in \u001b[0;36mread\u001b[0;34m(self, size)\u001b[0m\n\u001b[1;32m    481\u001b[0m         \u001b[0;32mwhile\u001b[0m \u001b[0mlen\u001b[0m\u001b[0;34m(\u001b[0m\u001b[0mread\u001b[0m\u001b[0;34m)\u001b[0m \u001b[0;34m<\u001b[0m \u001b[0msize\u001b[0m\u001b[0;34m:\u001b[0m\u001b[0;34m\u001b[0m\u001b[0m\n\u001b[1;32m    482\u001b[0m             \u001b[0;32mtry\u001b[0m\u001b[0;34m:\u001b[0m\u001b[0;34m\u001b[0m\u001b[0m\n\u001b[0;32m--> 483\u001b[0;31m                 \u001b[0mready\u001b[0m\u001b[0;34m,\u001b[0m \u001b[0m_\u001b[0m\u001b[0;34m,\u001b[0m \u001b[0m_\u001b[0m \u001b[0;34m=\u001b[0m \u001b[0mselect\u001b[0m\u001b[0;34m.\u001b[0m\u001b[0mselect\u001b[0m\u001b[0;34m(\u001b[0m\u001b[0;34m[\u001b[0m\u001b[0mself\u001b[0m\u001b[0;34m.\u001b[0m\u001b[0mfd\u001b[0m\u001b[0;34m,\u001b[0m \u001b[0mself\u001b[0m\u001b[0;34m.\u001b[0m\u001b[0mpipe_abort_read_r\u001b[0m\u001b[0;34m]\u001b[0m\u001b[0;34m,\u001b[0m \u001b[0;34m[\u001b[0m\u001b[0;34m]\u001b[0m\u001b[0;34m,\u001b[0m \u001b[0;34m[\u001b[0m\u001b[0;34m]\u001b[0m\u001b[0;34m,\u001b[0m \u001b[0mtimeout\u001b[0m\u001b[0;34m.\u001b[0m\u001b[0mtime_left\u001b[0m\u001b[0;34m(\u001b[0m\u001b[0;34m)\u001b[0m\u001b[0;34m)\u001b[0m\u001b[0;34m\u001b[0m\u001b[0m\n\u001b[0m\u001b[1;32m    484\u001b[0m                 \u001b[0;32mif\u001b[0m \u001b[0mself\u001b[0m\u001b[0;34m.\u001b[0m\u001b[0mpipe_abort_read_r\u001b[0m \u001b[0;32min\u001b[0m \u001b[0mready\u001b[0m\u001b[0;34m:\u001b[0m\u001b[0;34m\u001b[0m\u001b[0m\n\u001b[1;32m    485\u001b[0m                     \u001b[0mos\u001b[0m\u001b[0;34m.\u001b[0m\u001b[0mread\u001b[0m\u001b[0;34m(\u001b[0m\u001b[0mself\u001b[0m\u001b[0;34m.\u001b[0m\u001b[0mpipe_abort_read_r\u001b[0m\u001b[0;34m,\u001b[0m \u001b[0;36m1000\u001b[0m\u001b[0;34m)\u001b[0m\u001b[0;34m\u001b[0m\u001b[0m\n",
      "\u001b[0;31mKeyboardInterrupt\u001b[0m: "
     ]
    }
   ],
   "source": [
    "while True:\n",
    "    print(arduino.readline())"
   ]
  },
  {
   "cell_type": "code",
   "execution_count": null,
   "metadata": {},
   "outputs": [],
   "source": []
  }
 ],
 "metadata": {
  "kernelspec": {
   "display_name": "Python 3",
   "language": "python",
   "name": "python3"
  },
  "language_info": {
   "codemirror_mode": {
    "name": "ipython",
    "version": 3
   },
   "file_extension": ".py",
   "mimetype": "text/x-python",
   "name": "python",
   "nbconvert_exporter": "python",
   "pygments_lexer": "ipython3",
   "version": "3.6.5"
  }
 },
 "nbformat": 4,
 "nbformat_minor": 2
}
